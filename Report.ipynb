{
 "cells": [
  {
   "cell_type": "markdown",
   "id": "0e05d72d-730c-4731-bd88-9b5e9369540b",
   "metadata": {},
   "source": [
    "**Motivation and Problem Statement:**\n",
    "\n",
    "I hope to research the relationships between different demographics and their connections with their banks in the form of credit cards. I hope that this will help create predictions for what types of customers behave in certain ways when using or maintaining credit cards. This will be useful in successfully catering to credit card clients, and better designing plans for clients in the future. I chose this data set and analysis largely because I've always found economics and specifically the idea of credit to be fascinating, and I feel it would be incredibly rewarding to perform even a small exploration of the mechanics involved.\n"
   ]
  },
  {
   "cell_type": "markdown",
   "id": "c87bdcc9-0ee3-4059-b719-5ac5337508bb",
   "metadata": {},
   "source": [
    "**Data Selected for Analysis:**\n",
    "\n",
    "https://www.kaggle.com/sakshigoyal7/credit-card-customers\n",
    "\n",
    "This data set includes the duration of months a customer has been with their bank, the level of their credit card, their current status as a customer, their age, their gender, their number of dependents, their education level, their marital status, and their level of income.\n",
    "\n",
    "The license is a Creative Commons (CC0: Public Domain)\n",
    "\n",
    "This data set provides the demographic information alongside the data of consumer interaction required to explore the concepts above. I will be able to use this data to sort different demographics by their consumer information, and vice versa.\n",
    "\n",
    "There are minimal ethical issues to consider with this data set, with one of the larger ones potentially being reversing the information to predict private information of consumers based on public information, for instance using their age to predict their income. I will have to be aware that this data could be considered sensitive and should not be heedlessly paraded without proper justification."
   ]
  },
  {
   "cell_type": "markdown",
   "id": "8b4a99b5-41dc-406f-81d2-bb5fb7832e2c",
   "metadata": {},
   "source": [
    "**Unknowns and Dependencies:**\n",
    "\n",
    "Some of the unknowns for this project will be my other classes, my internet access, further developments during the pandemic, continued service from Kaggle.com and this data set, other projects in this class, and my own personal endeavours such as hobbies, jobs, scholarships, clubs, and/or events. Any and all of these could impact my ability to complete this project within the time alloted, so I must be aware and budget my time wisely."
   ]
  },
  {
   "cell_type": "markdown",
   "id": "063ccc4d-3a42-482b-b1de-72f999ef8afc",
   "metadata": {},
   "source": [
    "**Research Questions:**\n",
    "\n",
    "1. What demographics are more likely to purchase higher level credit card subscriptions.\n",
    "\n",
    "2. (Main Question) What demographic factors possibly contribute to credit card termination, and can these demographics be accurately utilized to predict credit card subscription duration?"
   ]
  },
  {
   "cell_type": "markdown",
   "id": "45558d4c-d06f-4869-b4e0-2fde646e8416",
   "metadata": {},
   "source": [
    "**Background and/or Related Work:**\n",
    "\n",
    "I wanted to have an understanding of basic credit card conventions, specifically the typical duration people keep credit cards, and the standard form of conduct customers have when using credit cards. Using a few online economics sites (https://www.thebalance.com/how-long-should-you-keep-your-credit-card-open-960071#:~:text=If%20you've%20just%20started,to%20calculate%20a%20credit%20score. and https://www.nerdwallet.com/article/credit-cards/credit-card-how-long-should-i-keep) I was able to find that the recommended minimum amount of time to keep a credit card open is approximately **6 months**. This gives me a baseline of expectation; any cases where the credit card was cancelled before this duration would be an outlier case worthy of looking into deeper.\n",
    "\n",
    "Furthermore, I was able to find that while 6 months is a recommended *minimum*, the sites actually recommend keeping credit cards open indefinitely if possible. This fully categorizes ANY cancelled card in the data set as possibly pertinent, with any that elapsed before 6 months being particularly noteworthy.\n",
    "\n",
    "Finally, using a couple credit card informatics sites (https://www.cardrates.com/advice/credit-card-ownership-by-age-income-gender-and-race/ and https://shiftprocessing.com/credit-card/) I was able to collect a baseline expectation of demographics for credit card ownership, which can be cross referenced against my data set to see if it's viable as a comparison for the broader market."
   ]
  },
  {
   "cell_type": "markdown",
   "id": "4e2ffcbf-73b6-4714-8ff1-5e9abd3ea4e1",
   "metadata": {},
   "source": [
    "**Methodology:** \n",
    "\n",
    "I intend to utilize similar methods to those we employed during the A1 and A2 assignment; by using the Python features and programs available in the Jupyter notebook, I will process, sort, and catalog the data within the CSV file to then compare data sets against one another. I will sort the data based on the different demographics to hopefully observe if any documented grouping has a higher likelyhood of credit card cancellation or greater subscription. Similar to how we compared different education levels and age demographics when analyzing the employee data, I will sort the data based on these demographics, and then compare to see if there is an inexplicable majority or minority.\n",
    "\n",
    "Since my analytical methods are similar to the A2 assignment, so to will my reporting method; I intend to use bar graphs to represent the data, to show which demographics have greater likelihoods of the key aspects I'm investigation (credit card cancellation and level). The major difference will be these bar graphs will be contrasted directly against their opposite, so as not to misrepresent the data by skewing in favor of larger demographics. These will be inserted directly after the code.\n",
    "\n",
    "I feel these methods will be appropriate since, at their core, the questions I'm asking are of the same nature; I am analyzing demographic information in relation to the behaviour in terms of a specefic environment or topic. Before, these were employees in the workspace, for my project, customers with credit cards. I have an admittedly limited knowledge of statistics and data manipulation, so attempting to utilize overly complicated concepts or techniques for a data set that does not require them seems unnescessary and an opportunity for avoidable error.\n"
   ]
  },
  {
   "cell_type": "markdown",
   "id": "abca012e-8bf5-41c5-aaf1-991be90b5737",
   "metadata": {},
   "source": [
    "**Processing**\n",
    "\n",
    "Below is my code for comparing different demographics against the facet of \"Customer Status\". Essentially, I look for all rows within the CSV file that contain both the demographic of intrigue, and then afterwards test the row to see whether it described a current or retired customer. Afterwards, I print out the results for analysis. The five demographics I was able to investigate below include Gender, Level of Education, Credit Card Tier, Income Level, and Marital Status."
   ]
  },
  {
   "cell_type": "code",
   "execution_count": 1,
   "id": "12200cea-bade-4f65-8285-4ff00f56d322",
   "metadata": {},
   "outputs": [
    {
     "name": "stdout",
     "output_type": "stream",
     "text": [
      "There were 4072 men current customers and 4428 women customers! There were also 697 men retirees and 930 women retirees!\n"
     ]
    }
   ],
   "source": [
    "import csv\n",
    "\n",
    "with open('BankChurners.csv') as f:\n",
    "    reader = csv.reader(f, delimiter=',') # good point by @paco\n",
    "\n",
    "    gender = {'men customers':0, 'men departed':0, 'women customers':0, 'women departed':0,}\n",
    "    Man = 'M'\n",
    "    Woman = 'F'\n",
    "    Customer = 'Existing Customer'\n",
    "    Departed = 'Attrited Customer'\n",
    "\n",
    "    for row in reader:\n",
    "        \n",
    "          for field in row:\n",
    "                \n",
    "                  if field == Man:\n",
    "                        \n",
    "                        if row[1] == Customer:\n",
    "        \n",
    "                            gender['men customers'] += 1\n",
    "                        \n",
    "                        elif row[1] == Departed:\n",
    "                        \n",
    "                            gender['men departed'] += 1\n",
    "            \n",
    "                  if field == Woman:\n",
    "        \n",
    "                        if row[1] == Customer:\n",
    "        \n",
    "                            gender['women customers'] += 1\n",
    "                        \n",
    "                        elif row[1] == Departed:\n",
    "                        \n",
    "                            gender['women departed'] += 1\n",
    "            \n",
    "print(\"There were \" \n",
    "    + str(gender['men customers']) \n",
    "    + \" men current customers and \" \n",
    "    + str(gender['women customers']) \n",
    "    + \" women customers! There were also \"\n",
    "    + str(gender['men departed']) \n",
    "    + \" men retirees and \" \n",
    "    + str(gender['women departed']) \n",
    "    + \" women retirees!\"\n",
    ")"
   ]
  },
  {
   "cell_type": "code",
   "execution_count": 2,
   "id": "14a560d3-74eb-4de2-9840-cb38c56b5f9d",
   "metadata": {},
   "outputs": [
    {
     "name": "stdout",
     "output_type": "stream",
     "text": [
      "There were 1250 uneducated current customers and 1707 high school educated current customers and 2641 graduate educated current customers and 356 doctorate educated customers! There were also 237 uneducated retired customers and 306 high school educated retired  customers and 487 graduate educated retired  customers and 95 doctorate retired  customers!\n"
     ]
    }
   ],
   "source": [
    "import csv\n",
    "\n",
    "with open('BankChurners.csv') as f:\n",
    "    reader = csv.reader(f, delimiter=',') # good point by @paco\n",
    "\n",
    "    education = {'uneducated customers':0, 'uneducated departed':0, 'highschool customers':0, 'highschool departed':0,'graduate customers':0, 'graduate departed':0,'doctorate customers':0, 'doctorate departed':0,}\n",
    "    Uneducated = 'Uneducated'\n",
    "    HighSchool = 'High School'\n",
    "    Graduate = 'Graduate'\n",
    "    Doctorate = 'Doctorate'\n",
    "    Customer = 'Existing Customer'\n",
    "    Departed = 'Attrited Customer'\n",
    "\n",
    "    for row in reader:\n",
    "        \n",
    "          for field in row:\n",
    "                \n",
    "                if field == Uneducated:\n",
    "                        \n",
    "                        if row[1] == Customer:\n",
    "        \n",
    "                            education['uneducated customers'] += 1\n",
    "                        \n",
    "                        elif row[1] == Departed:\n",
    "                        \n",
    "                            education['uneducated departed'] += 1\n",
    "                            \n",
    "            \n",
    "                if field == HighSchool:\n",
    "                        \n",
    "                        if row[1] == Customer:\n",
    "        \n",
    "                            education['highschool customers'] += 1\n",
    "                        \n",
    "                        elif row[1] == Departed:\n",
    "                        \n",
    "                            education['highschool departed'] += 1\n",
    "                            \n",
    "                            \n",
    "                if field == Doctorate:\n",
    "                        \n",
    "                        if row[1] == Customer:\n",
    "        \n",
    "                            education['doctorate customers'] += 1\n",
    "                        \n",
    "                        elif row[1] == Departed:\n",
    "                        \n",
    "                            education['doctorate departed'] += 1\n",
    "                            \n",
    "                            \n",
    "                if field == Graduate:\n",
    "                        \n",
    "                        if row[1] == Customer:\n",
    "        \n",
    "                            education['graduate customers'] += 1\n",
    "                        \n",
    "                        elif row[1] == Departed:\n",
    "                        \n",
    "                            education['graduate departed'] += 1\n",
    "            \n",
    "print(\"There were \" \n",
    "    + str(education['uneducated customers']) \n",
    "    + \" uneducated current customers and \"\n",
    "    + str(education['highschool customers']) \n",
    "    + \" high school educated current customers and \" \n",
    "    + str(education['graduate customers']) \n",
    "    + \" graduate educated current customers and \" \n",
    "    + str(education['doctorate customers']) \n",
    "    + \" doctorate educated customers! There were also \"\n",
    "    + str(education['uneducated departed']) \n",
    "    + \" uneducated retired customers and \"\n",
    "    + str(education['highschool departed']) \n",
    "    + \" high school educated retired  customers and \" \n",
    "    + str(education['graduate departed']) \n",
    "    + \" graduate educated retired  customers and \" \n",
    "    + str(education['doctorate departed']) \n",
    "    + \" doctorate retired  customers!\"\n",
    ")"
   ]
  },
  {
   "cell_type": "code",
   "execution_count": 3,
   "id": "a671458d-35ce-4b5c-81f2-5f4259b00b28",
   "metadata": {},
   "outputs": [
    {
     "name": "stdout",
     "output_type": "stream",
     "text": [
      "There were 7917 blue current customers and 473 silver customers and 95 gold current customers and 15 platinum customers! There were also 1519 blue retirees and 82 silver retirees and 21 gold retirees and 5 platinum retirees!\n"
     ]
    }
   ],
   "source": [
    "import csv\n",
    "\n",
    "with open('BankChurners.csv') as f:\n",
    "    reader = csv.reader(f, delimiter=',') # good point by @paco\n",
    "\n",
    "    tier = {'blue customers':0, 'blue departed':0, 'silver customers':0, 'silver departed':0, 'gold customers':0, 'gold departed':0, 'platinum customers':0, 'platinum departed':0}\n",
    "    Blue = 'Blue'\n",
    "    Silver = 'Silver'\n",
    "    Gold = 'Gold'\n",
    "    Platinum = 'Platinum'\n",
    "    Customer = 'Existing Customer'\n",
    "    Departed = 'Attrited Customer'\n",
    "\n",
    "    for row in reader:\n",
    "        \n",
    "          for field in row:\n",
    "                \n",
    "                if field == Blue:\n",
    "                        \n",
    "                        if row[1] == Customer:\n",
    "        \n",
    "                            tier['blue customers'] += 1\n",
    "                        \n",
    "                        elif row[1] == Departed:\n",
    "                        \n",
    "                            tier['blue departed'] += 1\n",
    "                            \n",
    "            \n",
    "                if field == Silver:\n",
    "        \n",
    "                        if row[1] == Customer:\n",
    "        \n",
    "                            tier['silver customers'] += 1\n",
    "                        \n",
    "                        elif row[1] == Departed:\n",
    "                        \n",
    "                            tier['silver departed'] += 1\n",
    "                            \n",
    "                            \n",
    "                if field == Gold:\n",
    "                        \n",
    "                        if row[1] == Customer:\n",
    "        \n",
    "                            tier['gold customers'] += 1\n",
    "                        \n",
    "                        elif row[1] == Departed:\n",
    "                        \n",
    "                            tier['gold departed'] += 1\n",
    "                            \n",
    "                            \n",
    "                if field == Platinum:\n",
    "                        \n",
    "                        if row[1] == Customer:\n",
    "        \n",
    "                            tier['platinum customers'] += 1\n",
    "                        \n",
    "                        elif row[1] == Departed:\n",
    "                        \n",
    "                            tier['platinum departed'] += 1\n",
    "            \n",
    "print(\"There were \" \n",
    "    + str(tier['blue customers']) \n",
    "    + \" blue current customers and \" \n",
    "    + str(tier['silver customers']) \n",
    "    + \" silver customers and \"\n",
    "    + str(tier['gold customers']) \n",
    "    + \" gold current customers and \" \n",
    "    + str(tier['platinum customers']) \n",
    "    + \" platinum customers! There were also \"\n",
    "    + str(tier['blue departed']) \n",
    "    + \" blue retirees and \" \n",
    "    + str(tier['silver departed']) \n",
    "    + \" silver retirees and \"\n",
    "    + str(tier['gold departed']) \n",
    "    + \" gold retirees and \" \n",
    "    + str(tier['platinum departed']) \n",
    "    + \" platinum retirees!\"\n",
    ")"
   ]
  },
  {
   "cell_type": "code",
   "execution_count": 4,
   "id": "662d51b1-53b5-4c7d-abdd-e3bb41cf2360",
   "metadata": {},
   "outputs": [
    {
     "name": "stdout",
     "output_type": "stream",
     "text": [
      "There were 2949 below 40K earning current customers and 1519 40K - 60K earning customers and 1213 60K - 80K earning current customers and 1293 80K - 120K earning current customers and 601 120K+ earning customers! There were also 612 below 40K earning retirees and 271 40K - 60K earning retirees and 189 60K - 80K earning retirees and 242 80K - 120K earning retirees and 126 120K+ earning retirees!\n"
     ]
    }
   ],
   "source": [
    "import csv\n",
    "\n",
    "with open('BankChurners.csv') as f:\n",
    "    reader = csv.reader(f, delimiter=',') # good point by @paco\n",
    "\n",
    "    tier = {'fb customers':0, 'fb departed':0, 'fa customers':0, 'fa departed':0, 'sa customers':0, 'sa departed':0, 'ea customers':0, 'ea departed':0, 'oa departed':0, 'oa customers':0}\n",
    "    FortyBelow = 'Less than $40K'\n",
    "    FortyAbove = '$40K - $60K'\n",
    "    SixtyAbove = '$60K - $80K'\n",
    "    EightyAbove = '$80K - $120K'\n",
    "    OneTwentyAbove = '$120K +'\n",
    "    Customer = 'Existing Customer'\n",
    "    Departed = 'Attrited Customer'\n",
    "\n",
    "    for row in reader:\n",
    "        \n",
    "          for field in row:\n",
    "                \n",
    "                if field == FortyBelow:\n",
    "                        \n",
    "                        if row[1] == Customer:\n",
    "        \n",
    "                            tier['fb customers'] += 1\n",
    "                        \n",
    "                        elif row[1] == Departed:\n",
    "                        \n",
    "                            tier['fb departed'] += 1\n",
    "                            \n",
    "            \n",
    "                if field == FortyAbove:\n",
    "        \n",
    "                        if row[1] == Customer:\n",
    "        \n",
    "                            tier['fa customers'] += 1\n",
    "                        \n",
    "                        elif row[1] == Departed:\n",
    "                        \n",
    "                            tier['fa departed'] += 1\n",
    "                            \n",
    "                            \n",
    "                if field == SixtyAbove:\n",
    "                        \n",
    "                        if row[1] == Customer:\n",
    "        \n",
    "                            tier['sa customers'] += 1\n",
    "                        \n",
    "                        elif row[1] == Departed:\n",
    "                        \n",
    "                            tier['sa departed'] += 1\n",
    "                            \n",
    "                            \n",
    "                if field == EightyAbove:\n",
    "                        \n",
    "                        if row[1] == Customer:\n",
    "        \n",
    "                            tier['ea customers'] += 1\n",
    "                        \n",
    "                        elif row[1] == Departed:\n",
    "                        \n",
    "                            tier['ea departed'] += 1\n",
    "                            \n",
    "                            \n",
    "                if field == OneTwentyAbove:\n",
    "                        \n",
    "                        if row[1] == Customer:\n",
    "        \n",
    "                            tier['oa customers'] += 1\n",
    "                        \n",
    "                        elif row[1] == Departed:\n",
    "                        \n",
    "                            tier['oa departed'] += 1\n",
    "            \n",
    "print(\"There were \" \n",
    "    + str(tier['fb customers']) \n",
    "    + \" below 40K earning current customers and \" \n",
    "    + str(tier['fa customers']) \n",
    "    + \" 40K - 60K earning customers and \"\n",
    "    + str(tier['sa customers']) \n",
    "    + \" 60K - 80K earning current customers and \"\n",
    "    + str(tier['ea customers']) \n",
    "    + \" 80K - 120K earning current customers and \" \n",
    "    + str(tier['oa customers']) \n",
    "    + \" 120K+ earning customers! There were also \"\n",
    "    + str(tier['fb departed']) \n",
    "    + \" below 40K earning retirees and \" \n",
    "    + str(tier['fa departed']) \n",
    "    + \" 40K - 60K earning retirees and \"\n",
    "    + str(tier['sa departed']) \n",
    "    + \" 60K - 80K earning retirees and \"\n",
    "    + str(tier['ea departed']) \n",
    "    + \" 80K - 120K earning retirees and \" \n",
    "    + str(tier['oa departed']) \n",
    "    + \" 120K+ earning retirees!\"\n",
    ")"
   ]
  },
  {
   "cell_type": "code",
   "execution_count": 5,
   "id": "d332d1e6-4b7e-421f-95d2-44b38bdc666d",
   "metadata": {},
   "outputs": [
    {
     "name": "stdout",
     "output_type": "stream",
     "text": [
      "There were 3978 married current customers and 3275 unmarried customers! There were also 709 married retirees and 668 unmarried retirees!\n"
     ]
    }
   ],
   "source": [
    "import csv\n",
    "\n",
    "with open('BankChurners.csv') as f:\n",
    "    reader = csv.reader(f, delimiter=',') # good point by @paco\n",
    "\n",
    "    married = {'married customers':0, 'married departed':0, 'single customers':0, 'single departed':0,}\n",
    "    Married = 'Married'\n",
    "    Unmarried = 'Single'\n",
    "    Customer = 'Existing Customer'\n",
    "    Departed = 'Attrited Customer'\n",
    "\n",
    "    for row in reader:\n",
    "        \n",
    "          for field in row:\n",
    "                \n",
    "                  if field == Married:\n",
    "                        \n",
    "                        if row[1] == Customer:\n",
    "        \n",
    "                            married['married customers'] += 1\n",
    "                        \n",
    "                        elif row[1] == Departed:\n",
    "                        \n",
    "                            married['married departed'] += 1\n",
    "            \n",
    "                  if field == Unmarried:\n",
    "        \n",
    "                        if row[1] == Customer:\n",
    "        \n",
    "                            married['single customers'] += 1\n",
    "                        \n",
    "                        elif row[1] == Departed:\n",
    "                        \n",
    "                            married['single departed'] += 1\n",
    "            \n",
    "print(\"There were \" \n",
    "    + str(married['married customers']) \n",
    "    + \" married current customers and \" \n",
    "    + str(married['single customers']) \n",
    "    + \" unmarried customers! There were also \"\n",
    "    + str(married['married departed']) \n",
    "    + \" married retirees and \" \n",
    "    + str(married['single departed']) \n",
    "    + \" unmarried retirees!\"\n",
    ")"
   ]
  },
  {
   "cell_type": "code",
   "execution_count": 6,
   "id": "8ec31f93-6222-443e-b526-3a0a99026b13",
   "metadata": {},
   "outputs": [
    {
     "data": {
      "image/png": "[encoded data removed]",
      "text/plain": [
       "<IPython.core.display.Image object>"
      ]
     },
     "execution_count": 6,
     "metadata": {},
     "output_type": "execute_result"
    }
   ],
   "source": [
    "from IPython.display import Image\n",
    "Image(filename='Gender.PNG') "
   ]
  },
  {
   "cell_type": "code",
   "execution_count": 7,
   "id": "54efcece-8892-49c8-b1d5-b12c5b8309c0",
   "metadata": {},
   "outputs": [
    {
     "data": {
      "image/png": "[encoded data removed]",
      "text/plain": [
       "<IPython.core.display.Image object>"
      ]
     },
     "execution_count": 7,
     "metadata": {},
     "output_type": "execute_result"
    }
   ],
   "source": [
    "from IPython.display import Image\n",
    "Image(filename='Education.PNG') "
   ]
  },
  {
   "cell_type": "code",
   "execution_count": 8,
   "id": "d25b8cfe-4831-43f4-99cb-3b3eaef5d0bd",
   "metadata": {},
   "outputs": [
    {
     "data": {
      "image/png": "[encoded data removed]",
      "text/plain": [
       "<IPython.core.display.Image object>"
      ]
     },
     "execution_count": 8,
     "metadata": {},
     "output_type": "execute_result"
    }
   ],
   "source": [
    "from IPython.display import Image\n",
    "Image(filename='Tier.PNG') "
   ]
  },
  {
   "cell_type": "code",
   "execution_count": 9,
   "id": "ede6fb47-6491-4574-978b-84f0e971bb11",
   "metadata": {},
   "outputs": [
    {
     "data": {
      "image/png": "[encoded data removed]",
      "text/plain": [
       "<IPython.core.display.Image object>"
      ]
     },
     "execution_count": 9,
     "metadata": {},
     "output_type": "execute_result"
    }
   ],
   "source": [
    "from IPython.display import Image\n",
    "Image(filename='Income.PNG') "
   ]
  },
  {
   "cell_type": "code",
   "execution_count": 10,
   "id": "b3b3ca08-4c25-413e-b78f-819cfa9e1500",
   "metadata": {},
   "outputs": [
    {
     "data": {
      "image/png": "[encoded data removed]",
      "text/plain": [
       "<IPython.core.display.Image object>"
      ]
     },
     "execution_count": 10,
     "metadata": {},
     "output_type": "execute_result"
    }
   ],
   "source": [
    "from IPython.display import Image\n",
    "Image(filename='Marriage.PNG') "
   ]
  },
  {
   "cell_type": "markdown",
   "id": "b93f6b51-f1c2-4a89-8ec6-9a3b33da5c63",
   "metadata": {},
   "source": [
    "**Findings - Discussion:**\n",
    "\n",
    "At a first glance, the data does not reveal any major trends or stunning relationships, namely between the number of current and retired credit card owners of any demographic. However, there are several small discoveries to note:\n",
    "\n",
    "- Out of **Income**, **Tier**, and **Education** (the three categories with more than two possible demographics), all three exhibited a different alteration of pattern. **Tier** showed a consistent negative relationship between members and level; as the level increased, the number of owners decreased, which was relatively expected. **Education** showed a positive relationship, before suddenly dropping at Doctorate, which is again reasonable as this reflects the general population. Finally, **Income** was the only category to have an inconsistent relationship; while the overall trend was negative, the concentrations increased between 60-80 and 80-120, before falling again going on to 120+. Upon some research, this is consistent with general trends of American populace income:"
   ]
  },
  {
   "cell_type": "code",
   "execution_count": 11,
   "id": "3b23b867-7ff8-4f0a-b40c-b92fd265b305",
   "metadata": {},
   "outputs": [
    {
     "data": {
      "image/png": "[encoded data removed]",
      "text/plain": [
       "<IPython.core.display.Image object>"
      ]
     },
     "execution_count": 11,
     "metadata": {},
     "output_type": "execute_result"
    }
   ],
   "source": [
    "from IPython.display import Image\n",
    "Image(filename='Households.PNG') "
   ]
  },
  {
   "cell_type": "markdown",
   "id": "0d220287-6527-4743-af55-2496fbea3ea8",
   "metadata": {},
   "source": [
    "(Image taken from https://en.wikipedia.org/wiki/Income_in_the_United_States)"
   ]
  },
  {
   "cell_type": "markdown",
   "id": "6627ff33-215b-4c34-ae9d-af76822922c5",
   "metadata": {},
   "source": [
    "- Out of **all demographics**, only one showed an inequivalent change in current customers and retired customers. This category was **Marital Status**. While there was a 17.6% decrease in current customers going from Married to Unmarried, there was only a 5.7% decrease in retired customers under the same comparison. This was the most signifigant variation between the any demographics. This could indicate a possible rabbit hole to investigate; as the data demonstrates, perhaps unmarried individuals are more likely to retire their credit cards than married individuals. This is the only conclusion that seems solidly supported by the data. With that in mind..."
   ]
  },
  {
   "cell_type": "markdown",
   "id": "59afc29e-3cca-4c2c-94e2-73f130b2e33a",
   "metadata": {},
   "source": [
    "**Findings - Conclusion**\n",
    "\n",
    "With the datasets I was able to analyze and compare, I was **unable to find any clear relationships between a demographic and their behaviour in relation to credit cards**. The only relationship that has demonstrated a signifigant comparison is Marital Status, which showed a near 300% resistivity to comparison, such that while current customers displayed an ~18% decrease between married and unmarried, the same comparison between retired customers displayed only a ~6% decrease. However, while this is the most striking relationship within the data, it can still be attributed to a number of outside factors, and is not nearly large enough to warrant a bygone conclusion.\n",
    "\n",
    "As a final statement, my treatment and comparison of the data **supports the original finding** that credit card usage and cancellation cannot be reliably predicted based on demographic data. On average, there were approximately 15% retired credit card owners compared to current credit card owners for any demographic, with minor, negligibile differences throughout."
   ]
  },
  {
   "cell_type": "markdown",
   "id": "b2bd9f92-bc74-4bcc-b463-15e33bb024e7",
   "metadata": {},
   "source": [
    "**Findings - Limitations**\n",
    "\n",
    "There are a number of biases and restrictions to this report. First and foremost, this data all comes from a singular, undisclosed bank. Naturally their clients will differ from other banks which offer different services, constracts, and products. Furthermore, while this data does reaffirm that credit card population demographics follow similarly to American population demographic, that in and of itself will do little to effect or inform decisions related to this industry. \n",
    "\n",
    "Also, due to the amount of time and my own limited knowledge of finance, credit, and statistics as a whole, I was unable to perform all possible comparisons, which would have numbered near the hundreds. This may have revealed more relevant information, or even explained some of the trends seen here. In the future, I would love to revisit this question and dataset, perhaps armed with a bit more time and a lot more know-how.\n",
    "\n",
    "I encourage anyone reading this to utilize the comparison code above to start contrasting different aspects of the data to potentially find some interesting relationships!"
   ]
  }
 ],
 "metadata": {
  "kernelspec": {
   "display_name": "Python 3",
   "language": "python",
   "name": "python3"
  },
  "language_info": {
   "codemirror_mode": {
    "name": "ipython",
    "version": 3
   },
   "file_extension": ".py",
   "mimetype": "text/x-python",
   "name": "python",
   "nbconvert_exporter": "python",
   "pygments_lexer": "ipython3",
   "version": "3.8.8"
  }
 },
 "nbformat": 4,
 "nbformat_minor": 5
}
