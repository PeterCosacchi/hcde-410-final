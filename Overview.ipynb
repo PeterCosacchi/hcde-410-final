{
 "cells": [
  {
   "cell_type": "markdown",
   "id": "0e05d72d-730c-4731-bd88-9b5e9369540b",
   "metadata": {},
   "source": [
    "**Motivation and Problem Statement:**\n",
    "\n",
    "I hope to research the relationships between different demographics and their connections with their banks in the form of credit cards. I hope that this will help create predictions for what types of customers behave in certain ways when using or maintaining credit cards. This will be useful in successfully catering to credit card clients, and better designing plans for clients in the future. I chose this data set and analysis largely because I've always found economics and specifically the idea of credit to be fascinating, and I feel it would be incredibly rewarding to perform even a small exploration of the mechanics involved.\n"
   ]
  },
  {
   "cell_type": "markdown",
   "id": "c87bdcc9-0ee3-4059-b719-5ac5337508bb",
   "metadata": {},
   "source": [
    "**Data Selected for Analysis:**\n",
    "\n",
    "https://www.kaggle.com/sakshigoyal7/credit-card-customers\n",
    "\n",
    "This data set includes the duration of months a customer has been with their bank, the level of their credit card, their current status as a customer, their age, their gender, their number of dependents, their education level, their marital status, and their level of income.\n",
    "\n",
    "The license is a Creative Commons (CC0: Public Domain)\n",
    "\n",
    "This data set provides the demographic information alongside the data of consumer interaction required to explore the concepts above. I will be able to use this data to sort different demographics by their consumer information, and vice versa.\n",
    "\n",
    "There are minimal ethical issues to consider with this data set, with one of the larger ones potentially being reversing the information to predict private information of consumers based on public information, for instance using their age to predict their income. I will have to be aware that this data could be considered sensitive and should not be heedlessly paraded without proper justification."
   ]
  },
  {
   "cell_type": "markdown",
   "id": "8b4a99b5-41dc-406f-81d2-bb5fb7832e2c",
   "metadata": {},
   "source": [
    "**Unknowns and Dependencies:**\n",
    "\n",
    "Some of the unknowns for this project will be my other classes, my internet access, further developments during the pandemic, continued service from Kaggle.com and this data set, other projects in this class, and my own personal endeavours such as hobbies, jobs, scholarships, clubs, and/or events. Any and all of these could impact my ability to complete this project within the time alloted, so I must be aware and budget my time wisely."
   ]
  },
  {
   "cell_type": "markdown",
   "id": "063ccc4d-3a42-482b-b1de-72f999ef8afc",
   "metadata": {},
   "source": [
    "**Research Questions:**\n",
    "\n",
    "1. What demographics are more likely to purchase higher level credit card subscriptions.\n",
    "\n",
    "2. (Main Question) What demographic factors possibly contribute to credit card termination, and can these demographics be accurately utilized to predict credit card subscription duration?"
   ]
  },
  {
   "cell_type": "markdown",
   "id": "45558d4c-d06f-4869-b4e0-2fde646e8416",
   "metadata": {},
   "source": [
    "**Background and/or Related Work:**\n",
    "\n",
    "I wanted to have an understanding of basic credit card conventions, specifically the typical duration people keep credit cards, and the standard form of conduct customers have when using credit cards. Using a few online economics sites (https://www.thebalance.com/how-long-should-you-keep-your-credit-card-open-960071#:~:text=If%20you've%20just%20started,to%20calculate%20a%20credit%20score. and https://www.nerdwallet.com/article/credit-cards/credit-card-how-long-should-i-keep) I was able to find that the recommended minimum amount of time to keep a credit card open is approximately **6 months**. This gives me a baseline of expectation; any cases where the credit card was cancelled before this duration would be an outlier case worthy of looking into deeper.\n",
    "\n",
    "Furthermore, I was able to find that while 6 months is a recommended *minimum*, the sites actually recommend keeping credit cards open indefinitely if possible. This fully categorizes ANY cancelled card in the data set as possibly pertinent, with any that elapsed before 6 months being particularly noteworthy.\n",
    "\n",
    "Finally, using a couple credit card informatics sites (https://www.cardrates.com/advice/credit-card-ownership-by-age-income-gender-and-race/ and https://shiftprocessing.com/credit-card/) I was able to collect a baseline expectation of demographics for credit card ownership, which can be cross referenced against my data set to see if it's viable as a comparison for the broader market."
   ]
  },
  {
   "cell_type": "markdown",
   "id": "4e2ffcbf-73b6-4714-8ff1-5e9abd3ea4e1",
   "metadata": {},
   "source": [
    "**Methodology:** \n",
    "\n",
    "I intend to utilize similar methods to those we employed during the A1 and A2 assignment; by using the Python features and programs available in the Jupyter notebook, I will process, sort, and catalog the data within the CSV file to then compare data sets against one another. I will sort the data based on the different demographics to hopefully observe if any documented grouping has a higher likelyhood of credit card cancellation or greater subscription. Similar to how we compared different education levels and age demographics when analyzing the employee data, I will sort the data based on these demographics, and then compare to see if there is an inexplicable majority or minority.\n",
    "\n",
    "Since my analytical methods are similar to the A2 assignment, so to will my reporting method; I intend to use bar graphs to represent the data, to show which demographics have greater likelihoods of the key aspects I'm investigation (credit card cancellation and level). The major difference will be these bar graphs will be representative of **percentages** rather than totals, so as not to misrepresent the data by skewing in favor of larger demographics. These will be inserted directly after the code \n",
    "\n",
    "I feel these methods will be appropriate since, at their core, the questions I'm asking are of the same nature; I am analyzing demographic information in relation to the behaviour in terms of a specefic environment or topic. Before, these were employees in the workspace, for my project, customers with credit cards. I have an admittedly limited knowledge of statistics and data manipulation, so attempting to utilize overly complicated concepts or techniques for a data set that does not require them seems unnescessary and an opportunity for avoidable error.\n"
   ]
  }
 ],
 "metadata": {
  "kernelspec": {
   "display_name": "Python 3",
   "language": "python",
   "name": "python3"
  },
  "language_info": {
   "codemirror_mode": {
    "name": "ipython",
    "version": 3
   },
   "file_extension": ".py",
   "mimetype": "text/x-python",
   "name": "python",
   "nbconvert_exporter": "python",
   "pygments_lexer": "ipython3",
   "version": "3.8.8"
  }
 },
 "nbformat": 4,
 "nbformat_minor": 5
}
